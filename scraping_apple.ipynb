{
 "cells": [
  {
   "cell_type": "markdown",
   "metadata": {},
   "source": [
    "# Automatically fetching app analytics data from AppStoreConnect"
   ]
  },
  {
   "cell_type": "markdown",
   "metadata": {},
   "source": [
    "## Modules import"
   ]
  },
  {
   "cell_type": "code",
   "execution_count": 1,
   "metadata": {},
   "outputs": [],
   "source": [
    "import json\n",
    "import requests as re\n",
    "import pandas as pd\n",
    "from selenium import webdriver\n",
    "from selenium.webdriver.chrome.service import Service\n",
    "from selenium.webdriver.common.by import By\n",
    "from selenium.webdriver.common.keys import Keys\n",
    "from selenium.webdriver.chrome.options import Options\n",
    "from selenium.webdriver.support.ui import WebDriverWait\n",
    "from selenium.webdriver.support import expected_conditions as EC\n",
    "import time"
   ]
  },
  {
   "cell_type": "markdown",
   "metadata": {},
   "source": [
    "## Fetching the bot configuration parameters and the credentials to login to AppStoreConnect"
   ]
  },
  {
   "cell_type": "code",
   "execution_count": 2,
   "metadata": {},
   "outputs": [],
   "source": [
    "# Opening JSON file\n",
    "with open('config.json', 'r') as openfile:\n",
    "    # Reading from json file\n",
    "    config_dict = json.load(openfile)"
   ]
  },
  {
   "cell_type": "code",
   "execution_count": 3,
   "metadata": {},
   "outputs": [],
   "source": [
    "profile_path = config_dict[\"profile_path\"]\n",
    "profile_directory = config_dict[\"profile_directory\"]\n",
    "\n",
    "email_address_login = config_dict[\"email_address_login\"]\n",
    "password_login = config_dict[\"password_login\"]"
   ]
  },
  {
   "cell_type": "markdown",
   "metadata": {},
   "source": [
    "## Generating and recovering the necessary cookie parameter"
   ]
  },
  {
   "cell_type": "markdown",
   "metadata": {},
   "source": [
    "### Recovering the Chrome profile that verified apple's double authentication by sms \n",
    "The double authentication needs to be verified once every three weeks I believe"
   ]
  },
  {
   "cell_type": "code",
   "execution_count": 4,
   "metadata": {},
   "outputs": [],
   "source": [
    "service = Service()\n",
    "chrome_options = Options()\n",
    "chrome_options.add_argument(f\"--user-data-dir={profile_path}\")\n",
    "chrome_options.add_argument(f\"--profile-directory={profile_directory}\")"
   ]
  },
  {
   "cell_type": "markdown",
   "metadata": {},
   "source": [
    "### Bot initialization and cookie parameter fetching"
   ]
  },
  {
   "cell_type": "code",
   "execution_count": 6,
   "metadata": {},
   "outputs": [
    {
     "name": "stdout",
     "output_type": "stream",
     "text": [
      "SUCCESS: Successfully recovered cookie\n"
     ]
    }
   ],
   "source": [
    "myacinfo_cookie = \"\"\n",
    "\n",
    "'''\n",
    "Bot initialization on the previously defined Chrome profile\n",
    "'''\n",
    "driver = webdriver.Chrome(service=service, options=chrome_options)\n",
    "driver.maximize_window()\n",
    "\n",
    "'''\n",
    "Bot connection to the AppStoreConnect\n",
    "'''\n",
    "driver.get(\"https://appstoreconnect.apple.com/login\")\n",
    "driver.switch_to.default_content()\n",
    "wait = WebDriverWait(driver, 10)\n",
    "\n",
    "iframe = wait.until(EC.presence_of_element_located((By.NAME, \"aid-auth-widget\")))\n",
    "driver.switch_to.frame(iframe)\n",
    "\n",
    "'''\n",
    "Website login\n",
    "'''\n",
    "email_address = wait.until(EC.presence_of_element_located((By.ID, \"account_name_text_field\")))\n",
    "wait.until(EC.element_to_be_clickable(email_address)).send_keys(email_address_login)\n",
    "time.sleep(0.1)\n",
    "email_address.send_keys(Keys.RETURN)\n",
    "\n",
    "password = wait.until(EC.presence_of_element_located((By.ID, \"password_text_field\")))\n",
    "wait.until(EC.element_to_be_clickable(password)).send_keys(password_login)\n",
    "time.sleep(0.1)\n",
    "password.send_keys(Keys.RETURN)\n",
    "\n",
    "'''\n",
    "Generating the cookie parameter by navigating to the analyses tab\n",
    "'''\n",
    "wait.until(EC.element_to_be_clickable((By.XPATH, '//*[@id=\"main-nav\"]/div[1]/div[2]/a'))).click()\n",
    "\n",
    "'''\n",
    "Recovering the cookie parameter\n",
    "'''\n",
    "cookies = driver.get_cookies()\n",
    "found = False\n",
    "index = 0\n",
    "while (not found) and (index < len(cookies)):\n",
    "    if cookies[index][\"name\"] == \"myacinfo\":\n",
    "        myacinfo_cookie = cookies[index][\"value\"]\n",
    "        found = True\n",
    "    else:\n",
    "        index += 1\n",
    "if found:\n",
    "    print(\"SUCCESS: Successfully recovered cookie\")\n",
    "else:\n",
    "    print(\"FAILURE: Cookie not found\")\n",
    "driver.close()\n",
    "driver.quit()"
   ]
  },
  {
   "cell_type": "markdown",
   "metadata": {},
   "source": [
    "## Connecting to the internal API and recovering the desired app analysis data"
   ]
  },
  {
   "cell_type": "markdown",
   "metadata": {},
   "source": [
    "### Initializing the connection parameters and the data measures we wish to recover"
   ]
  },
  {
   "cell_type": "code",
   "execution_count": 7,
   "metadata": {},
   "outputs": [],
   "source": [
    "# Fetching the desired data, which in this case are the app's total downloads, first downloads and redownloads\n",
    "\n",
    "url = \"https://appstoreconnect.apple.com/analytics/api/v1/data/time-series\"\n",
    "cookie_headers= config_dict[\"cookie_header\"] + f\" myacinfo={myacinfo_cookie}\"\n",
    "adam_id = config_dict[\"adam_id\"]\n",
    "\n",
    "measures = [\"totalDownloads\", \"redownloads\", \"units\"]\n",
    "freq = \"day\"\n",
    "start_time = \"2023-01-01T00:00:00Z\"\n",
    "end_time = \"2023-02-01T00:00:00Z\"\n",
    "\n",
    "headers = headers = {\n",
    "  'Host': 'appstoreconnect.apple.com',\n",
    "  'X-Requested-By': 'dev.apple.com',\n",
    "  'Cookie': cookie_headers,\n",
    "  'Content-Type': 'application/json'\n",
    "}"
   ]
  },
  {
   "cell_type": "markdown",
   "metadata": {},
   "source": [
    "### Data fetching"
   ]
  },
  {
   "cell_type": "code",
   "execution_count": 8,
   "metadata": {},
   "outputs": [
    {
     "name": "stdout",
     "output_type": "stream",
     "text": [
      "{\"size\":1,\"results\":[{\"adamId\":\"369692259\",\"group\":null,\"data\":[{\"date\":\"2023-01-01T00:00:00Z\",\"totalDownloads\":3633.0},{\"date\":\"2023-01-02T00:00:00Z\",\"totalDownloads\":4326.0},{\"date\":\"2023-01-03T00:00:00Z\",\"totalDownloads\":3549.0},{\"date\":\"2023-01-04T00:00:00Z\",\"totalDownloads\":4105.0},{\"date\":\"2023-01-05T00:00:00Z\",\"totalDownloads\":3829.0},{\"date\":\"2023-01-06T00:00:00Z\",\"totalDownloads\":3590.0},{\"date\":\"2023-01-07T00:00:00Z\",\"totalDownloads\":3365.0},{\"date\":\"2023-01-08T00:00:00Z\",\"totalDownloads\":4437.0},{\"date\":\"2023-01-09T00:00:00Z\",\"totalDownloads\":3650.0},{\"date\":\"2023-01-10T00:00:00Z\",\"totalDownloads\":3761.0},{\"date\":\"2023-01-11T00:00:00Z\",\"totalDownloads\":4023.0},{\"date\":\"2023-01-12T00:00:00Z\",\"totalDownloads\":4008.0},{\"date\":\"2023-01-13T00:00:00Z\",\"totalDownloads\":3613.0},{\"date\":\"2023-01-14T00:00:00Z\",\"totalDownloads\":4022.0},{\"date\":\"2023-01-15T00:00:00Z\",\"totalDownloads\":5619.0},{\"date\":\"2023-01-16T00:00:00Z\",\"totalDownloads\":4127.0},{\"date\":\"2023-01-17T00:00:00Z\",\"totalDownloads\":4004.0},{\"date\":\"2023-01-18T00:00:00Z\",\"totalDownloads\":4275.0},{\"date\":\"2023-01-19T00:00:00Z\",\"totalDownloads\":4503.0},{\"date\":\"2023-01-20T00:00:00Z\",\"totalDownloads\":3718.0},{\"date\":\"2023-01-21T00:00:00Z\",\"totalDownloads\":3681.0},{\"date\":\"2023-01-22T00:00:00Z\",\"totalDownloads\":4494.0},{\"date\":\"2023-01-23T00:00:00Z\",\"totalDownloads\":3534.0},{\"date\":\"2023-01-24T00:00:00Z\",\"totalDownloads\":3429.0},{\"date\":\"2023-01-25T00:00:00Z\",\"totalDownloads\":4065.0},{\"date\":\"2023-01-26T00:00:00Z\",\"totalDownloads\":3941.0},{\"date\":\"2023-01-27T00:00:00Z\",\"totalDownloads\":3641.0},{\"date\":\"2023-01-28T00:00:00Z\",\"totalDownloads\":3390.0},{\"date\":\"2023-01-29T00:00:00Z\",\"totalDownloads\":4261.0},{\"date\":\"2023-01-30T00:00:00Z\",\"totalDownloads\":4227.0},{\"date\":\"2023-01-31T00:00:00Z\",\"totalDownloads\":4408.0},{\"date\":\"2023-02-01T00:00:00Z\",\"totalDownloads\":4128.0}],\"totals\":{\"value\":127356.0,\"type\":\"COUNT\",\"key\":\"totalDownloads\"},\"meetsThreshold\":true}]}\n",
      "{\"size\":1,\"results\":[{\"adamId\":\"369692259\",\"group\":null,\"data\":[{\"date\":\"2023-01-01T00:00:00Z\",\"redownloads\":2373.0},{\"date\":\"2023-01-02T00:00:00Z\",\"redownloads\":2936.0},{\"date\":\"2023-01-03T00:00:00Z\",\"redownloads\":2408.0},{\"date\":\"2023-01-04T00:00:00Z\",\"redownloads\":2840.0},{\"date\":\"2023-01-05T00:00:00Z\",\"redownloads\":2687.0},{\"date\":\"2023-01-06T00:00:00Z\",\"redownloads\":2437.0},{\"date\":\"2023-01-07T00:00:00Z\",\"redownloads\":2226.0},{\"date\":\"2023-01-08T00:00:00Z\",\"redownloads\":2892.0},{\"date\":\"2023-01-09T00:00:00Z\",\"redownloads\":2480.0},{\"date\":\"2023-01-10T00:00:00Z\",\"redownloads\":2605.0},{\"date\":\"2023-01-11T00:00:00Z\",\"redownloads\":2846.0},{\"date\":\"2023-01-12T00:00:00Z\",\"redownloads\":2776.0},{\"date\":\"2023-01-13T00:00:00Z\",\"redownloads\":2486.0},{\"date\":\"2023-01-14T00:00:00Z\",\"redownloads\":2663.0},{\"date\":\"2023-01-15T00:00:00Z\",\"redownloads\":3642.0},{\"date\":\"2023-01-16T00:00:00Z\",\"redownloads\":2783.0},{\"date\":\"2023-01-17T00:00:00Z\",\"redownloads\":2734.0},{\"date\":\"2023-01-18T00:00:00Z\",\"redownloads\":2991.0},{\"date\":\"2023-01-19T00:00:00Z\",\"redownloads\":3080.0},{\"date\":\"2023-01-20T00:00:00Z\",\"redownloads\":2550.0},{\"date\":\"2023-01-21T00:00:00Z\",\"redownloads\":2467.0},{\"date\":\"2023-01-22T00:00:00Z\",\"redownloads\":3053.0},{\"date\":\"2023-01-23T00:00:00Z\",\"redownloads\":2474.0},{\"date\":\"2023-01-24T00:00:00Z\",\"redownloads\":2367.0},{\"date\":\"2023-01-25T00:00:00Z\",\"redownloads\":2865.0},{\"date\":\"2023-01-26T00:00:00Z\",\"redownloads\":2719.0},{\"date\":\"2023-01-27T00:00:00Z\",\"redownloads\":2506.0},{\"date\":\"2023-01-28T00:00:00Z\",\"redownloads\":2294.0},{\"date\":\"2023-01-29T00:00:00Z\",\"redownloads\":2814.0},{\"date\":\"2023-01-30T00:00:00Z\",\"redownloads\":2844.0},{\"date\":\"2023-01-31T00:00:00Z\",\"redownloads\":3061.0},{\"date\":\"2023-02-01T00:00:00Z\",\"redownloads\":2811.0}],\"totals\":{\"value\":86710.0,\"type\":\"COUNT\",\"key\":\"redownloads\"},\"meetsThreshold\":true}]}\n",
      "{\"size\":1,\"results\":[{\"adamId\":\"369692259\",\"group\":null,\"data\":[{\"date\":\"2023-01-01T00:00:00Z\",\"units\":1260.0},{\"date\":\"2023-01-02T00:00:00Z\",\"units\":1390.0},{\"date\":\"2023-01-03T00:00:00Z\",\"units\":1141.0},{\"date\":\"2023-01-04T00:00:00Z\",\"units\":1265.0},{\"date\":\"2023-01-05T00:00:00Z\",\"units\":1142.0},{\"date\":\"2023-01-06T00:00:00Z\",\"units\":1153.0},{\"date\":\"2023-01-07T00:00:00Z\",\"units\":1139.0},{\"date\":\"2023-01-08T00:00:00Z\",\"units\":1545.0},{\"date\":\"2023-01-09T00:00:00Z\",\"units\":1170.0},{\"date\":\"2023-01-10T00:00:00Z\",\"units\":1156.0},{\"date\":\"2023-01-11T00:00:00Z\",\"units\":1177.0},{\"date\":\"2023-01-12T00:00:00Z\",\"units\":1232.0},{\"date\":\"2023-01-13T00:00:00Z\",\"units\":1127.0},{\"date\":\"2023-01-14T00:00:00Z\",\"units\":1359.0},{\"date\":\"2023-01-15T00:00:00Z\",\"units\":1977.0},{\"date\":\"2023-01-16T00:00:00Z\",\"units\":1344.0},{\"date\":\"2023-01-17T00:00:00Z\",\"units\":1270.0},{\"date\":\"2023-01-18T00:00:00Z\",\"units\":1284.0},{\"date\":\"2023-01-19T00:00:00Z\",\"units\":1423.0},{\"date\":\"2023-01-20T00:00:00Z\",\"units\":1168.0},{\"date\":\"2023-01-21T00:00:00Z\",\"units\":1214.0},{\"date\":\"2023-01-22T00:00:00Z\",\"units\":1441.0},{\"date\":\"2023-01-23T00:00:00Z\",\"units\":1060.0},{\"date\":\"2023-01-24T00:00:00Z\",\"units\":1062.0},{\"date\":\"2023-01-25T00:00:00Z\",\"units\":1200.0},{\"date\":\"2023-01-26T00:00:00Z\",\"units\":1222.0},{\"date\":\"2023-01-27T00:00:00Z\",\"units\":1135.0},{\"date\":\"2023-01-28T00:00:00Z\",\"units\":1096.0},{\"date\":\"2023-01-29T00:00:00Z\",\"units\":1447.0},{\"date\":\"2023-01-30T00:00:00Z\",\"units\":1383.0},{\"date\":\"2023-01-31T00:00:00Z\",\"units\":1347.0},{\"date\":\"2023-02-01T00:00:00Z\",\"units\":1317.0}],\"totals\":{\"value\":40646.0,\"type\":\"COUNT\",\"key\":\"units\"},\"meetsThreshold\":true}]}\n"
     ]
    }
   ],
   "source": [
    "results = []\n",
    "for measure in measures:\n",
    "  payload = json.dumps({\"adamId\":[adam_id],\"measures\":[measure],\"frequency\":freq,\"startTime\":start_time,\"endTime\":end_time})\n",
    "  results.append(re.request(\"POST\", url, headers=headers, data=payload, allow_redirects=False).text)\n",
    "  print(re.request(\"POST\", url, headers=headers, data=payload, allow_redirects=False).text)"
   ]
  },
  {
   "cell_type": "markdown",
   "metadata": {},
   "source": [
    "### Formatting the recovered data into a pandas dataframe"
   ]
  },
  {
   "cell_type": "code",
   "execution_count": 9,
   "metadata": {},
   "outputs": [
    {
     "data": {
      "text/html": [
       "<div>\n",
       "<style scoped>\n",
       "    .dataframe tbody tr th:only-of-type {\n",
       "        vertical-align: middle;\n",
       "    }\n",
       "\n",
       "    .dataframe tbody tr th {\n",
       "        vertical-align: top;\n",
       "    }\n",
       "\n",
       "    .dataframe thead th {\n",
       "        text-align: right;\n",
       "    }\n",
       "</style>\n",
       "<table border=\"1\" class=\"dataframe\">\n",
       "  <thead>\n",
       "    <tr style=\"text-align: right;\">\n",
       "      <th></th>\n",
       "      <th>date</th>\n",
       "      <th>totalDownloads</th>\n",
       "      <th>firstDownloads</th>\n",
       "      <th>redownloads</th>\n",
       "    </tr>\n",
       "  </thead>\n",
       "  <tbody>\n",
       "    <tr>\n",
       "      <th>0</th>\n",
       "      <td>2023-01-01T00:00:00Z</td>\n",
       "      <td>3633.0</td>\n",
       "      <td>1260.0</td>\n",
       "      <td>2373.0</td>\n",
       "    </tr>\n",
       "    <tr>\n",
       "      <th>1</th>\n",
       "      <td>2023-01-02T00:00:00Z</td>\n",
       "      <td>4326.0</td>\n",
       "      <td>1390.0</td>\n",
       "      <td>2936.0</td>\n",
       "    </tr>\n",
       "    <tr>\n",
       "      <th>2</th>\n",
       "      <td>2023-01-03T00:00:00Z</td>\n",
       "      <td>3549.0</td>\n",
       "      <td>1141.0</td>\n",
       "      <td>2408.0</td>\n",
       "    </tr>\n",
       "    <tr>\n",
       "      <th>3</th>\n",
       "      <td>2023-01-04T00:00:00Z</td>\n",
       "      <td>4105.0</td>\n",
       "      <td>1265.0</td>\n",
       "      <td>2840.0</td>\n",
       "    </tr>\n",
       "    <tr>\n",
       "      <th>4</th>\n",
       "      <td>2023-01-05T00:00:00Z</td>\n",
       "      <td>3829.0</td>\n",
       "      <td>1142.0</td>\n",
       "      <td>2687.0</td>\n",
       "    </tr>\n",
       "  </tbody>\n",
       "</table>\n",
       "</div>"
      ],
      "text/plain": [
       "                   date  totalDownloads  firstDownloads  redownloads\n",
       "0  2023-01-01T00:00:00Z          3633.0          1260.0       2373.0\n",
       "1  2023-01-02T00:00:00Z          4326.0          1390.0       2936.0\n",
       "2  2023-01-03T00:00:00Z          3549.0          1141.0       2408.0\n",
       "3  2023-01-04T00:00:00Z          4105.0          1265.0       2840.0\n",
       "4  2023-01-05T00:00:00Z          3829.0          1142.0       2687.0"
      ]
     },
     "execution_count": 9,
     "metadata": {},
     "output_type": "execute_result"
    }
   ],
   "source": [
    "totalDownloads = pd.json_normalize(json.loads(results[0])[\"results\"][0][\"data\"])\n",
    "firstDownloads = pd.json_normalize(json.loads(results[2])[\"results\"][0][\"data\"]).rename(columns={\"units\": \"firstDownloads\"})\n",
    "reDownloads = pd.json_normalize(json.loads(results[1])[\"results\"][0][\"data\"])\n",
    "df = totalDownloads.join(firstDownloads.set_index(\"date\"), on=\"date\").join(reDownloads.set_index(\"date\"), on=\"date\")\n",
    "df.head()"
   ]
  }
 ],
 "metadata": {
  "kernelspec": {
   "display_name": "Python 3",
   "language": "python",
   "name": "python3"
  },
  "language_info": {
   "codemirror_mode": {
    "name": "ipython",
    "version": 3
   },
   "file_extension": ".py",
   "mimetype": "text/x-python",
   "name": "python",
   "nbconvert_exporter": "python",
   "pygments_lexer": "ipython3",
   "version": "3.9.13"
  },
  "orig_nbformat": 4
 },
 "nbformat": 4,
 "nbformat_minor": 2
}
