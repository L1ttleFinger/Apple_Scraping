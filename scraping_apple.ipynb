{
 "cells": [
  {
   "cell_type": "markdown",
   "metadata": {},
   "source": [
    "# Automatically fetching app analytics data from AppStoreConnect"
   ]
  },
  {
   "cell_type": "markdown",
   "metadata": {},
   "source": [
    "## Modules import"
   ]
  },
  {
   "cell_type": "code",
   "execution_count": null,
   "metadata": {},
   "outputs": [],
   "source": [
    "import json\n",
    "import requests as re\n",
    "import pandas as pd\n",
    "from selenium import webdriver\n",
    "from selenium.webdriver.chrome.service import Service\n",
    "from selenium.webdriver.common.by import By\n",
    "from selenium.webdriver.common.keys import Keys\n",
    "from selenium.webdriver.chrome.options import Options\n",
    "from selenium.webdriver.support.ui import WebDriverWait\n",
    "from selenium.webdriver.support import expected_conditions as EC\n",
    "import time"
   ]
  },
  {
   "cell_type": "markdown",
   "metadata": {},
   "source": [
    "## Fetching the bot configuration parameters and the credentials to login to AppStoreConnect"
   ]
  },
  {
   "cell_type": "code",
   "execution_count": null,
   "metadata": {},
   "outputs": [],
   "source": [
    "# Opening JSON file\n",
    "with open('config.json', 'r') as openfile:\n",
    "    # Reading from json file\n",
    "    config_dict = json.load(openfile)"
   ]
  },
  {
   "cell_type": "code",
   "execution_count": null,
   "metadata": {},
   "outputs": [],
   "source": [
    "profile_path = config_dict[\"profile_path\"]\n",
    "profile_directory = config_dict[\"profile_directory\"]\n",
    "\n",
    "email_address_login = config_dict[\"email_address_login\"]\n",
    "password_login = config_dict[\"password_login\"]"
   ]
  },
  {
   "cell_type": "markdown",
   "metadata": {},
   "source": [
    "## Generating and recovering the necessary cookie parameter"
   ]
  },
  {
   "cell_type": "markdown",
   "metadata": {},
   "source": [
    "### Recovering the Chrome profile that verified apple's double authentication by sms \n",
    "The double authentication needs to be verified once every three weeks I believe"
   ]
  },
  {
   "cell_type": "code",
   "execution_count": null,
   "metadata": {},
   "outputs": [],
   "source": [
    "service = Service()\n",
    "chrome_options = Options()\n",
    "chrome_options.add_argument(f\"--user-data-dir={profile_path}\")\n",
    "chrome_options.add_argument(f\"--profile-directory={profile_directory}\")"
   ]
  },
  {
   "cell_type": "markdown",
   "metadata": {},
   "source": [
    "### Bot initialization and cookie parameter fetching"
   ]
  },
  {
   "cell_type": "code",
   "execution_count": null,
   "metadata": {},
   "outputs": [],
   "source": [
    "myacinfo_cookie = \"\"\n",
    "\n",
    "'''\n",
    "Bot initialization on the previously defined Chrome profile\n",
    "'''\n",
    "driver = webdriver.Chrome(service=service, options=chrome_options)\n",
    "driver.maximize_window()\n",
    "\n",
    "'''\n",
    "Bot connection to the AppStoreConnect\n",
    "'''\n",
    "driver.get(\"https://appstoreconnect.apple.com/login\")\n",
    "driver.switch_to.default_content()\n",
    "wait = WebDriverWait(driver, 10)\n",
    "\n",
    "iframe = wait.until(EC.presence_of_element_located((By.NAME, \"aid-auth-widget\")))\n",
    "driver.switch_to.frame(iframe)\n",
    "\n",
    "'''\n",
    "Website login\n",
    "'''\n",
    "email_address = wait.until(EC.presence_of_element_located((By.ID, \"account_name_text_field\")))\n",
    "wait.until(EC.element_to_be_clickable(email_address)).send_keys(email_address_login)\n",
    "time.sleep(0.1)\n",
    "email_address.send_keys(Keys.RETURN)\n",
    "\n",
    "password = wait.until(EC.presence_of_element_located((By.ID, \"password_text_field\")))\n",
    "wait.until(EC.element_to_be_clickable(password)).send_keys(password_login)\n",
    "time.sleep(0.1)\n",
    "password.send_keys(Keys.RETURN)\n",
    "\n",
    "'''\n",
    "Generating the cookie parameter by navigating to the analyses tab\n",
    "'''\n",
    "wait.until(EC.element_to_be_clickable((By.XPATH, '//*[@id=\"main-nav\"]/div[1]/div[2]/a'))).click()\n",
    "\n",
    "'''\n",
    "Recovering the cookie parameter\n",
    "'''\n",
    "cookies = driver.get_cookies()\n",
    "found = False\n",
    "index = 0\n",
    "while (not found) and (index < len(cookies)):\n",
    "    if cookies[index][\"name\"] == \"myacinfo\":\n",
    "        myacinfo_cookie = cookies[index][\"value\"]\n",
    "        found = True\n",
    "    else:\n",
    "        index += 1\n",
    "if found:\n",
    "    print(\"SUCCESS: Successfully recovered cookie\")\n",
    "else:\n",
    "    print(\"FAILURE: Cookie not found\")\n",
    "driver.close()\n",
    "driver.quit()"
   ]
  },
  {
   "cell_type": "markdown",
   "metadata": {},
   "source": [
    "## Connecting to the internal API and recovering the desired app analysis data"
   ]
  },
  {
   "cell_type": "markdown",
   "metadata": {},
   "source": [
    "### Initializing the connection parameters and the data measures we wish to recover"
   ]
  },
  {
   "cell_type": "code",
   "execution_count": null,
   "metadata": {},
   "outputs": [],
   "source": [
    "# Fetching the desired data, which in this case are the app's total downloads, first downloads and redownloads\n",
    "\n",
    "url = \"https://appstoreconnect.apple.com/analytics/api/v1/data/time-series\"\n",
    "cookie_headers= config_dict[\"cookie_header\"] + f\" myacinfo={myacinfo_cookie}\"\n",
    "adam_id = config_dict[\"adam_id\"]\n",
    "\n",
    "measures = [\"totalDownloads\", \"redownloads\", \"units\"]\n",
    "freq = \"day\"\n",
    "start_time = \"2023-01-01T00:00:00Z\"\n",
    "end_time = \"2023-02-01T00:00:00Z\"\n",
    "\n",
    "headers = headers = {\n",
    "  'Host': 'appstoreconnect.apple.com',\n",
    "  'X-Requested-By': 'dev.apple.com',\n",
    "  'Cookie': cookie_headers,\n",
    "  'Content-Type': 'application/json'\n",
    "}"
   ]
  },
  {
   "cell_type": "markdown",
   "metadata": {},
   "source": [
    "### Data fetching"
   ]
  },
  {
   "cell_type": "code",
   "execution_count": null,
   "metadata": {},
   "outputs": [],
   "source": [
    "results = []\n",
    "for measure in measures:\n",
    "  payload = json.dumps({\"adamId\":[adam_id],\"measures\":[measure],\"frequency\":freq,\"startTime\":start_time,\"endTime\":end_time})\n",
    "  results.append(re.request(\"POST\", url, headers=headers, data=payload, allow_redirects=False).text)\n",
    "  print(re.request(\"POST\", url, headers=headers, data=payload, allow_redirects=False).text)"
   ]
  },
  {
   "cell_type": "markdown",
   "metadata": {},
   "source": [
    "### Formatting the recovered data into a pandas dataframe"
   ]
  },
  {
   "cell_type": "code",
   "execution_count": null,
   "metadata": {},
   "outputs": [],
   "source": [
    "totalDownloads = pd.json_normalize(json.loads(results[0])[\"results\"][0][\"data\"])\n",
    "firstDownloads = pd.json_normalize(json.loads(results[2])[\"results\"][0][\"data\"]).rename(columns={\"units\": \"firstDownloads\"})\n",
    "reDownloads = pd.json_normalize(json.loads(results[1])[\"results\"][0][\"data\"])\n",
    "df = totalDownloads.join(firstDownloads.set_index(\"date\"), on=\"date\").join(reDownloads.set_index(\"date\"), on=\"date\")\n",
    "df.head()"
   ]
  }
 ],
 "metadata": {
  "kernelspec": {
   "display_name": "Python 3",
   "language": "python",
   "name": "python3"
  },
  "language_info": {
   "codemirror_mode": {
    "name": "ipython",
    "version": 3
   },
   "file_extension": ".py",
   "mimetype": "text/x-python",
   "name": "python",
   "nbconvert_exporter": "python",
   "pygments_lexer": "ipython3",
   "version": "3.9.13"
  },
  "orig_nbformat": 4
 },
 "nbformat": 4,
 "nbformat_minor": 2
}
